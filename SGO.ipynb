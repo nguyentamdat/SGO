{
 "cells": [
  {
   "cell_type": "code",
   "execution_count": 18,
   "metadata": {},
   "outputs": [],
   "source": [
    "import time, array, random, copy, math\n",
    "import numpy as np\n",
    "import pandas as pd\n",
    "from collections import defaultdict"
   ]
  },
  {
   "cell_type": "code",
   "execution_count": 19,
   "metadata": {},
   "outputs": [],
   "source": [
    "import matplotlib.pyplot as plt\n",
    "%matplotlib inline\n",
    "%config InlineBackend.figure_format = 'retina'\n",
    "plt.rc('text', usetex=True)\n",
    "plt.rc('font', family='serif')\n",
    "plt.rcParams['text.latex.preamble'] ='\\\\usepackage{libertine}\\n\\\\usepackage[utf8]{inputenc}'\n",
    "\n",
    "import seaborn\n",
    "seaborn.set(style='whitegrid')\n",
    "seaborn.set_context('notebook')"
   ]
  },
  {
   "cell_type": "code",
   "execution_count": 20,
   "metadata": {},
   "outputs": [],
   "source": [
    "from deap import algorithms, base, benchmarks, tools, creator"
   ]
  },
  {
   "cell_type": "code",
   "execution_count": 21,
   "metadata": {},
   "outputs": [],
   "source": [
    "random.seed(a=81)"
   ]
  },
  {
   "cell_type": "code",
   "execution_count": 22,
   "metadata": {},
   "outputs": [],
   "source": [
    "data = pd.read_excel('VD-LVTN.xlsx', 3, None)"
   ]
  },
  {
   "cell_type": "code",
   "execution_count": 23,
   "metadata": {},
   "outputs": [
    {
     "output_type": "execute_result",
     "data": {
      "text/plain": "    0     1      2    3         4    5     6   7    8     9   10   11      12  \\\n0    0     x      x    0  0.058824    3    15  90    4    15  95    x       x   \n1    1     0     FS    0  0.058824    5   135  87    6   135  92    x       x   \n2    2     1     FS    0  0.000000   50     x   x    x     x   x    x       x   \n3    3     0     FS    0  0.058824    7    98  85    9    90  80   10      85   \n4    4     3     FS    0  0.058824   19   612  80   23   550  85   25     581   \n5    5     4     FS    0  0.058824   42   447  85   46   515  82   50     481   \n6    6     5     FS    0  0.058824    7    52  89    9    45  75   10    48.5   \n7    7   6,2  FS,FS  0,0  0.058824   35  5780  85   40  5690  89   43    5735   \n8    8     7     FS    0  0.058824   47  1285  95   52  1240  85   55  1262.5   \n9    9     8     FF    0  0.058824   11   212  85   14   200  77   16     206   \n10  10     6     FS    0  0.058824   11   212  84   14   240  88   17     226   \n11  11    10     FS    0  0.058824   12   135  85   15   150  90   17   142.5   \n12  12     7     FS    0  0.058824   45   785  91   53   770  85   55   777.5   \n13  13     5     FS    0  0.058824  110  2386  85  120  2290  87  140    2338   \n14  14     3     FF   15  0.058824   40  3721  83   45  3650  82   47  3685.5   \n15  15  8,11  FS,FS  0,0  0.058824   14  2346  85   17  2500  90   20    2423   \n16  16    14     FF    0  0.058824   25  1232  95   30  1189  91   34  1210.5   \n17  17    14     FF    0  0.058824   20  1321  85   24  1287  89   30    1304   \n\n    13  14    15  16  \n0    x   x     x   x  \n1    x   x     x   x  \n2    x   x     x   x  \n3   85   x     x   x  \n4   88   x     x   x  \n5   85   x     x   x  \n6   78   x     x   x  \n7   92  30  5910  75  \n8   88   x     x   x  \n9   80   x     x   x  \n10  91   x     x   x  \n11  93   x     x   x  \n12  88   x     x   x  \n13  90  90  2511  80  \n14  85  35  3813  79  \n15  93   x     x   x  \n16  94   x     x   x  \n17  92   x     x   x  ",
      "text/html": "<div>\n<style scoped>\n    .dataframe tbody tr th:only-of-type {\n        vertical-align: middle;\n    }\n\n    .dataframe tbody tr th {\n        vertical-align: top;\n    }\n\n    .dataframe thead th {\n        text-align: right;\n    }\n</style>\n<table border=\"1\" class=\"dataframe\">\n  <thead>\n    <tr style=\"text-align: right;\">\n      <th></th>\n      <th>0</th>\n      <th>1</th>\n      <th>2</th>\n      <th>3</th>\n      <th>4</th>\n      <th>5</th>\n      <th>6</th>\n      <th>7</th>\n      <th>8</th>\n      <th>9</th>\n      <th>10</th>\n      <th>11</th>\n      <th>12</th>\n      <th>13</th>\n      <th>14</th>\n      <th>15</th>\n      <th>16</th>\n    </tr>\n  </thead>\n  <tbody>\n    <tr>\n      <th>0</th>\n      <td>0</td>\n      <td>x</td>\n      <td>x</td>\n      <td>0</td>\n      <td>0.058824</td>\n      <td>3</td>\n      <td>15</td>\n      <td>90</td>\n      <td>4</td>\n      <td>15</td>\n      <td>95</td>\n      <td>x</td>\n      <td>x</td>\n      <td>x</td>\n      <td>x</td>\n      <td>x</td>\n      <td>x</td>\n    </tr>\n    <tr>\n      <th>1</th>\n      <td>1</td>\n      <td>0</td>\n      <td>FS</td>\n      <td>0</td>\n      <td>0.058824</td>\n      <td>5</td>\n      <td>135</td>\n      <td>87</td>\n      <td>6</td>\n      <td>135</td>\n      <td>92</td>\n      <td>x</td>\n      <td>x</td>\n      <td>x</td>\n      <td>x</td>\n      <td>x</td>\n      <td>x</td>\n    </tr>\n    <tr>\n      <th>2</th>\n      <td>2</td>\n      <td>1</td>\n      <td>FS</td>\n      <td>0</td>\n      <td>0.000000</td>\n      <td>50</td>\n      <td>x</td>\n      <td>x</td>\n      <td>x</td>\n      <td>x</td>\n      <td>x</td>\n      <td>x</td>\n      <td>x</td>\n      <td>x</td>\n      <td>x</td>\n      <td>x</td>\n      <td>x</td>\n    </tr>\n    <tr>\n      <th>3</th>\n      <td>3</td>\n      <td>0</td>\n      <td>FS</td>\n      <td>0</td>\n      <td>0.058824</td>\n      <td>7</td>\n      <td>98</td>\n      <td>85</td>\n      <td>9</td>\n      <td>90</td>\n      <td>80</td>\n      <td>10</td>\n      <td>85</td>\n      <td>85</td>\n      <td>x</td>\n      <td>x</td>\n      <td>x</td>\n    </tr>\n    <tr>\n      <th>4</th>\n      <td>4</td>\n      <td>3</td>\n      <td>FS</td>\n      <td>0</td>\n      <td>0.058824</td>\n      <td>19</td>\n      <td>612</td>\n      <td>80</td>\n      <td>23</td>\n      <td>550</td>\n      <td>85</td>\n      <td>25</td>\n      <td>581</td>\n      <td>88</td>\n      <td>x</td>\n      <td>x</td>\n      <td>x</td>\n    </tr>\n    <tr>\n      <th>5</th>\n      <td>5</td>\n      <td>4</td>\n      <td>FS</td>\n      <td>0</td>\n      <td>0.058824</td>\n      <td>42</td>\n      <td>447</td>\n      <td>85</td>\n      <td>46</td>\n      <td>515</td>\n      <td>82</td>\n      <td>50</td>\n      <td>481</td>\n      <td>85</td>\n      <td>x</td>\n      <td>x</td>\n      <td>x</td>\n    </tr>\n    <tr>\n      <th>6</th>\n      <td>6</td>\n      <td>5</td>\n      <td>FS</td>\n      <td>0</td>\n      <td>0.058824</td>\n      <td>7</td>\n      <td>52</td>\n      <td>89</td>\n      <td>9</td>\n      <td>45</td>\n      <td>75</td>\n      <td>10</td>\n      <td>48.5</td>\n      <td>78</td>\n      <td>x</td>\n      <td>x</td>\n      <td>x</td>\n    </tr>\n    <tr>\n      <th>7</th>\n      <td>7</td>\n      <td>6,2</td>\n      <td>FS,FS</td>\n      <td>0,0</td>\n      <td>0.058824</td>\n      <td>35</td>\n      <td>5780</td>\n      <td>85</td>\n      <td>40</td>\n      <td>5690</td>\n      <td>89</td>\n      <td>43</td>\n      <td>5735</td>\n      <td>92</td>\n      <td>30</td>\n      <td>5910</td>\n      <td>75</td>\n    </tr>\n    <tr>\n      <th>8</th>\n      <td>8</td>\n      <td>7</td>\n      <td>FS</td>\n      <td>0</td>\n      <td>0.058824</td>\n      <td>47</td>\n      <td>1285</td>\n      <td>95</td>\n      <td>52</td>\n      <td>1240</td>\n      <td>85</td>\n      <td>55</td>\n      <td>1262.5</td>\n      <td>88</td>\n      <td>x</td>\n      <td>x</td>\n      <td>x</td>\n    </tr>\n    <tr>\n      <th>9</th>\n      <td>9</td>\n      <td>8</td>\n      <td>FF</td>\n      <td>0</td>\n      <td>0.058824</td>\n      <td>11</td>\n      <td>212</td>\n      <td>85</td>\n      <td>14</td>\n      <td>200</td>\n      <td>77</td>\n      <td>16</td>\n      <td>206</td>\n      <td>80</td>\n      <td>x</td>\n      <td>x</td>\n      <td>x</td>\n    </tr>\n    <tr>\n      <th>10</th>\n      <td>10</td>\n      <td>6</td>\n      <td>FS</td>\n      <td>0</td>\n      <td>0.058824</td>\n      <td>11</td>\n      <td>212</td>\n      <td>84</td>\n      <td>14</td>\n      <td>240</td>\n      <td>88</td>\n      <td>17</td>\n      <td>226</td>\n      <td>91</td>\n      <td>x</td>\n      <td>x</td>\n      <td>x</td>\n    </tr>\n    <tr>\n      <th>11</th>\n      <td>11</td>\n      <td>10</td>\n      <td>FS</td>\n      <td>0</td>\n      <td>0.058824</td>\n      <td>12</td>\n      <td>135</td>\n      <td>85</td>\n      <td>15</td>\n      <td>150</td>\n      <td>90</td>\n      <td>17</td>\n      <td>142.5</td>\n      <td>93</td>\n      <td>x</td>\n      <td>x</td>\n      <td>x</td>\n    </tr>\n    <tr>\n      <th>12</th>\n      <td>12</td>\n      <td>7</td>\n      <td>FS</td>\n      <td>0</td>\n      <td>0.058824</td>\n      <td>45</td>\n      <td>785</td>\n      <td>91</td>\n      <td>53</td>\n      <td>770</td>\n      <td>85</td>\n      <td>55</td>\n      <td>777.5</td>\n      <td>88</td>\n      <td>x</td>\n      <td>x</td>\n      <td>x</td>\n    </tr>\n    <tr>\n      <th>13</th>\n      <td>13</td>\n      <td>5</td>\n      <td>FS</td>\n      <td>0</td>\n      <td>0.058824</td>\n      <td>110</td>\n      <td>2386</td>\n      <td>85</td>\n      <td>120</td>\n      <td>2290</td>\n      <td>87</td>\n      <td>140</td>\n      <td>2338</td>\n      <td>90</td>\n      <td>90</td>\n      <td>2511</td>\n      <td>80</td>\n    </tr>\n    <tr>\n      <th>14</th>\n      <td>14</td>\n      <td>3</td>\n      <td>FF</td>\n      <td>15</td>\n      <td>0.058824</td>\n      <td>40</td>\n      <td>3721</td>\n      <td>83</td>\n      <td>45</td>\n      <td>3650</td>\n      <td>82</td>\n      <td>47</td>\n      <td>3685.5</td>\n      <td>85</td>\n      <td>35</td>\n      <td>3813</td>\n      <td>79</td>\n    </tr>\n    <tr>\n      <th>15</th>\n      <td>15</td>\n      <td>8,11</td>\n      <td>FS,FS</td>\n      <td>0,0</td>\n      <td>0.058824</td>\n      <td>14</td>\n      <td>2346</td>\n      <td>85</td>\n      <td>17</td>\n      <td>2500</td>\n      <td>90</td>\n      <td>20</td>\n      <td>2423</td>\n      <td>93</td>\n      <td>x</td>\n      <td>x</td>\n      <td>x</td>\n    </tr>\n    <tr>\n      <th>16</th>\n      <td>16</td>\n      <td>14</td>\n      <td>FF</td>\n      <td>0</td>\n      <td>0.058824</td>\n      <td>25</td>\n      <td>1232</td>\n      <td>95</td>\n      <td>30</td>\n      <td>1189</td>\n      <td>91</td>\n      <td>34</td>\n      <td>1210.5</td>\n      <td>94</td>\n      <td>x</td>\n      <td>x</td>\n      <td>x</td>\n    </tr>\n    <tr>\n      <th>17</th>\n      <td>17</td>\n      <td>14</td>\n      <td>FF</td>\n      <td>0</td>\n      <td>0.058824</td>\n      <td>20</td>\n      <td>1321</td>\n      <td>85</td>\n      <td>24</td>\n      <td>1287</td>\n      <td>89</td>\n      <td>30</td>\n      <td>1304</td>\n      <td>92</td>\n      <td>x</td>\n      <td>x</td>\n      <td>x</td>\n    </tr>\n  </tbody>\n</table>\n</div>"
     },
     "metadata": {},
     "execution_count": 23
    }
   ],
   "source": [
    "data"
   ]
  },
  {
   "cell_type": "code",
   "execution_count": 24,
   "metadata": {},
   "outputs": [],
   "source": [
    "contraints = list(data[[1,2,3]].values)"
   ]
  },
  {
   "cell_type": "code",
   "execution_count": 25,
   "metadata": {},
   "outputs": [],
   "source": [
    "adj_list = defaultdict(lambda:[])\n",
    "parent_list = defaultdict(lambda:[])\n",
    "for idx, (u, v, z) in enumerate(contraints):\n",
    "    if u == 'x':\n",
    "        continue\n",
    "    adj_vert = [int(x) for x in str(u).split(',')]\n",
    "    adj_constr = str(v).split(',')\n",
    "    adj_delay = [int(x) for x in str(z).split(',')]\n",
    "    for i, j, k in zip(adj_vert, adj_constr, adj_delay):\n",
    "        adj_list[i] += [(idx, j, k)]\n",
    "        parent_list[idx] += [(i, j, k)]"
   ]
  },
  {
   "cell_type": "code",
   "execution_count": 26,
   "metadata": {},
   "outputs": [],
   "source": [
    "for i in range(len(contraints)):\n",
    "    if not adj_list[i]:\n",
    "        adj_list[i] += [('F', 'FS', 0)]\n",
    "        parent_list['F'] += [(i, 'FS', 0)]\n",
    "    if not parent_list[i]:\n",
    "        adj_list['S'] += [(i, 'FS', 0)]\n",
    "        parent_list[i] += [('S', 'FS', 0)]"
   ]
  },
  {
   "cell_type": "code",
   "execution_count": 27,
   "metadata": {},
   "outputs": [],
   "source": [
    "class DiGraph:\n",
    "\n",
    "    def __init__(self, adj_list: dict, parent_list: dict, num_node: int):\n",
    "        self.__adj_list = adj_list\n",
    "        self.__parent_list = parent_list\n",
    "        self.__cpm = defaultdict(lambda:defaultdict(lambda:0))\n",
    "        self.__duration = defaultdict(lambda:0)\n",
    "        self.__n = num_node\n",
    "        self.__weight = [1./num_node] * num_node\n",
    "        self.__cost = [0] * num_node\n",
    "        self.__quality = [0] * num_node\n",
    "\n",
    "    def reset(self):\n",
    "        self.__init__(self.__adj_list, self.__parent_list, self.__n)\n",
    "\n",
    "    def forward_pass(self):\n",
    "        q = []\n",
    "        q.append('S')\n",
    "        while q:\n",
    "            u = q.pop(0)\n",
    "            self.__cpm[u]['EF'] = self.__cpm[u]['ES'] + self.__duration[u]\n",
    "            for v, rela, delay in self.__adj_list[u]:\n",
    "                if rela == 'FF':\n",
    "                    self.__cpm[v]['ES'] = max(self.__cpm[v]['ES'], self.__cpm[u]['EF'] - self.__duration[v] + delay)\n",
    "                elif rela == 'FS':\n",
    "                    self.__cpm[v]['ES'] = max(self.__cpm[v]['ES'], self.__cpm[u]['EF'] + delay)\n",
    "                q.append(v)\n",
    "    \n",
    "    def get_cpm(self):\n",
    "        return self.__cpm\n",
    "\n",
    "    def set_duration(self, duration):\n",
    "        for i, val in enumerate(duration):\n",
    "            self.__duration[i] = val if isinstance(val, (int, float)) else 10e3\n",
    "\n",
    "    def get_total_duration(self):\n",
    "        return self.__cpm['F']['EF']\n",
    "\n",
    "    def set_weight(self, weight):\n",
    "        self.__weight = weight\n",
    "\n",
    "    def set_cost(self, cost):\n",
    "        self.__cost = [(x if isinstance(x, (int, float)) else 0) for x in cost]\n",
    "\n",
    "    def get_total_cost(self):\n",
    "        return sum(self.__cost)\n",
    "\n",
    "    def set_quality(self, quality):\n",
    "        self.__quality = [(x if isinstance(x, (int, float)) else 0) for x in quality]\n",
    "    \n",
    "    def get_total_quality(self):\n",
    "        return sum([(x[0] * x[1]) for x in zip(self.__weight, self.__quality)])\n",
    "\n",
    "    def get_score(self):\n",
    "        return self.get_total_duration(), self.get_total_cost(), self.get_total_quality()"
   ]
  },
  {
   "cell_type": "code",
   "execution_count": 28,
   "metadata": {},
   "outputs": [
    {
     "output_type": "stream",
     "name": "stdout",
     "text": "80000.0\n20774\n86.70588235294163\n"
    }
   ],
   "source": [
    "a = DiGraph(adj_list, parent_list, len(data[4].values))\n",
    "a.set_weight(data[4].values)\n",
    "a.set_duration(data[5].values)\n",
    "a.set_cost(data[6].values)\n",
    "a.set_quality(data[7].values)\n",
    "a.forward_pass()\n",
    "print(a.get_total_duration())\n",
    "print(a.get_total_cost())\n",
    "print(a.get_total_quality())"
   ]
  },
  {
   "cell_type": "code",
   "execution_count": 29,
   "metadata": {},
   "outputs": [],
   "source": [
    "candidates = [data[[5,6,7]].values, data[[8,9,10]].values, data[[11,12,13]].values, data[[14,15,16]].values]"
   ]
  },
  {
   "cell_type": "code",
   "execution_count": 30,
   "metadata": {},
   "outputs": [],
   "source": [
    "N = int(input('Kich thuoc quan the = '))\n",
    "D = data.shape[0]\n",
    "MAX_ITER = int(input('So the he toi da = '))\n",
    "c = float(input('Kha nang tu hoc = '))"
   ]
  },
  {
   "cell_type": "code",
   "execution_count": 60,
   "metadata": {},
   "outputs": [],
   "source": [
    "a = DiGraph(adj_list, parent_list, D)\n",
    "\n",
    "def fitness(X):\n",
    "    a.reset()\n",
    "    X = [int(round(x)) for x in X]\n",
    "    X = [candidates[x][i] for i, x in enumerate(X)]\n",
    "    X = np.transpose(X)\n",
    "    a.set_duration(X[0])\n",
    "    a.set_cost(X[1])\n",
    "    a.set_quality(X[2])\n",
    "    a.forward_pass()\n",
    "    return a.get_score()\n",
    "\n",
    "def fast_non_dominated_sort(values):\n",
    "    S=[[] for i in range(0,len(values))]\n",
    "    front = [[]]\n",
    "    n=[0 for i in range(0,len(values))]\n",
    "    rank = [0 for i in range(0, len(values))]\n",
    "\n",
    "    for p in range(0,len(values)):\n",
    "        S[p]=[]\n",
    "        n[p]=0\n",
    "        for q in range(0, len(values)):\n",
    "            if dominates(values[p], values[q]):\n",
    "                if q not in S[p]:\n",
    "                    S[p].append(q)\n",
    "            elif dominates(values[q], values[p]):\n",
    "                n[p] = n[p] + 1\n",
    "        if n[p]==0:\n",
    "            rank[p] = 0\n",
    "            if p not in front[0]:\n",
    "                front[0].append(p)\n",
    "\n",
    "    i = 0\n",
    "    while(front[i] != []):\n",
    "        Q=[]\n",
    "        for p in front[i]:\n",
    "            for q in S[p]:\n",
    "                n[q] =n[q] - 1\n",
    "                if( n[q]==0):\n",
    "                    rank[q]=i+1\n",
    "                    if q not in Q:\n",
    "                        Q.append(q)\n",
    "        i = i+1\n",
    "        front.append(Q)\n",
    "\n",
    "    del front[len(front)-1]\n",
    "    return front\n",
    "\n",
    "def dominates(row, candidateRow):\n",
    "    return bool(np.any([row[i] > candidateRow[i] for i in range(len(row))]) and np.all([row[i] >= candidateRow[i] for i in range(len(row))]))\n",
    "    \n",
    "def crowding_distance(values, front):\n",
    "    distance = [0 for i in range(0,len(front))]\n",
    "\n",
    "    sorted1 = sort_by_values(front, values[:, 1])\n",
    "    sorted2 = sort_by_values(front, values[:, 2])\n",
    "    sorted3 = sort_by_values(front, values[:, 3])\n",
    "    distance[0] = 4444444444444444\n",
    "    distance[len(front) - 1] = 4444444444444444\n",
    "    for k in range(1,len(front)-1):\n",
    "        distance[k] = distance[k]+ (values1[sorted1[k+1]] - values2[sorted1[k-1]])/(max(values1)-min(values1))\n",
    "    for k in range(1,len(front)-1):\n",
    "        distance[k] = distance[k]+ (values1[sorted2[k+1]] - values2[sorted2[k-1]])/(max(values2)-min(values2))\n",
    "    for k in range(1,len(front)-1):\n",
    "        distance[k] = distance[k]+ (values1[sorted2[k+1]] - values2[sorted2[k-1]])/(max(values2)-min(values2))\n",
    "    return distance"
   ]
  },
  {
   "cell_type": "code",
   "execution_count": 61,
   "metadata": {},
   "outputs": [],
   "source": [
    "pop = np.random.rand(N,D)*3\n",
    "pop_fit = np.array([fitness(x) for x in pop])\n",
    "non_dominated = fast_non_dominated_sort(pop_fit)"
   ]
  },
  {
   "cell_type": "code",
   "execution_count": 62,
   "metadata": {},
   "outputs": [
    {
     "output_type": "execute_result",
     "data": {
      "text/plain": "[[0, 2, 4, 6, 8, 9], [1, 3, 5], [7]]"
     },
     "metadata": {},
     "execution_count": 62
    }
   ],
   "source": [
    "non_dominated"
   ]
  }
 ],
 "metadata": {
  "language_info": {
   "codemirror_mode": {
    "name": "ipython",
    "version": 3
   },
   "file_extension": ".py",
   "mimetype": "text/x-python",
   "name": "python",
   "nbconvert_exporter": "python",
   "pygments_lexer": "ipython3",
   "version": "3.8.2-final"
  },
  "orig_nbformat": 2,
  "kernelspec": {
   "name": "python38264bitenvvenva0f74cf8c9df45e3b2cb00644fa6db21",
   "display_name": "Python 3.8.2 64-bit ('env': venv)"
  }
 },
 "nbformat": 4,
 "nbformat_minor": 2
}