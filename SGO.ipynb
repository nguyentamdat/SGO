{
 "cells": [
  {
   "cell_type": "code",
   "execution_count": 1,
   "metadata": {},
   "outputs": [],
   "source": [
    "import time, array, random, copy, math\n",
    "import numpy as np\n",
    "import pandas as pd\n",
    "from collections import defaultdict"
   ]
  },
  {
   "cell_type": "code",
   "execution_count": 2,
   "metadata": {},
   "outputs": [],
   "source": [
    "import matplotlib.pyplot as plt\n",
    "%matplotlib inline\n",
    "%config InlineBackend.figure_format = 'retina'\n",
    "plt.rc('text', usetex=True)\n",
    "plt.rc('font', family='serif')\n",
    "plt.rcParams['text.latex.preamble'] ='\\\\usepackage{libertine}\\n\\\\usepackage[utf8]{inputenc}'\n",
    "\n",
    "import seaborn\n",
    "seaborn.set(style='whitegrid')\n",
    "seaborn.set_context('notebook')"
   ]
  },
  {
   "cell_type": "code",
   "execution_count": 3,
   "metadata": {},
   "outputs": [],
   "source": [
    "from deap import algorithms, base, benchmarks, tools, creator"
   ]
  },
  {
   "cell_type": "code",
   "execution_count": 4,
   "metadata": {},
   "outputs": [],
   "source": [
    "random.seed(a=81)"
   ]
  },
  {
   "cell_type": "code",
   "execution_count": 5,
   "metadata": {},
   "outputs": [],
   "source": [
    "data = pd.read_excel('VD-LVTN.xlsx', 3, None)"
   ]
  },
  {
   "cell_type": "code",
   "execution_count": 6,
   "metadata": {},
   "outputs": [
    {
     "output_type": "execute_result",
     "data": {
      "text/plain": "    0     1      2    3    4     5   6    7     8   9    10      11  12  13  \\\n0    0     x      x    0    3    15  90    4    15  95    x       x   x   x   \n1    1     0     FS    0    5   135  87    6   135  92    x       x   x   x   \n2    2     1     FS    0   50     x   x    x     x   x    x       x   x   x   \n3    3     0     FS    0    7    98  85    9    90  80   10      85  85   x   \n4    4     3     FS    0   19   612  80   23   550  85   25     581  88   x   \n5    5     4     FS    0   42   447  85   46   515  82   50     481  85   x   \n6    6     5     FS    0    7    52  89    9    45  75   10    48.5  78   x   \n7    7   6,2  FS,FS  0,0   35  5780  85   40  5690  89   43    5735  92  30   \n8    8     7     FS    0   47  1285  95   52  1240  85   55  1262.5  88   x   \n9    9     8     FF    0   11   212  85   14   200  77   16     206  80   x   \n10  10     6     FS    0   11   212  84   14   240  88   17     226  91   x   \n11  11    10     FS    0   12   135  85   15   150  90   17   142.5  93   x   \n12  12     7     FS    0   45   785  91   53   770  85   55   777.5  88   x   \n13  13     5     FS    0  110  2386  85  120  2290  87  140    2338  90  90   \n14  14     3     FF   15   40  3721  83   45  3650  82   47  3685.5  85  35   \n15  15  8,11  FS,FS  0,0   14  2346  85   17  2500  90   20    2423  93   x   \n16  16    14     FF    0   25  1232  95   30  1189  91   34  1210.5  94   x   \n17  17    14     FF    0   20  1321  85   24  1287  89   30    1304  92   x   \n\n      14  15  \n0      x   x  \n1      x   x  \n2      x   x  \n3      x   x  \n4      x   x  \n5      x   x  \n6      x   x  \n7   5910  75  \n8      x   x  \n9      x   x  \n10     x   x  \n11     x   x  \n12     x   x  \n13  2511  80  \n14  3813  79  \n15     x   x  \n16     x   x  \n17     x   x  ",
      "text/html": "<div>\n<style scoped>\n    .dataframe tbody tr th:only-of-type {\n        vertical-align: middle;\n    }\n\n    .dataframe tbody tr th {\n        vertical-align: top;\n    }\n\n    .dataframe thead th {\n        text-align: right;\n    }\n</style>\n<table border=\"1\" class=\"dataframe\">\n  <thead>\n    <tr style=\"text-align: right;\">\n      <th></th>\n      <th>0</th>\n      <th>1</th>\n      <th>2</th>\n      <th>3</th>\n      <th>4</th>\n      <th>5</th>\n      <th>6</th>\n      <th>7</th>\n      <th>8</th>\n      <th>9</th>\n      <th>10</th>\n      <th>11</th>\n      <th>12</th>\n      <th>13</th>\n      <th>14</th>\n      <th>15</th>\n    </tr>\n  </thead>\n  <tbody>\n    <tr>\n      <th>0</th>\n      <td>0</td>\n      <td>x</td>\n      <td>x</td>\n      <td>0</td>\n      <td>3</td>\n      <td>15</td>\n      <td>90</td>\n      <td>4</td>\n      <td>15</td>\n      <td>95</td>\n      <td>x</td>\n      <td>x</td>\n      <td>x</td>\n      <td>x</td>\n      <td>x</td>\n      <td>x</td>\n    </tr>\n    <tr>\n      <th>1</th>\n      <td>1</td>\n      <td>0</td>\n      <td>FS</td>\n      <td>0</td>\n      <td>5</td>\n      <td>135</td>\n      <td>87</td>\n      <td>6</td>\n      <td>135</td>\n      <td>92</td>\n      <td>x</td>\n      <td>x</td>\n      <td>x</td>\n      <td>x</td>\n      <td>x</td>\n      <td>x</td>\n    </tr>\n    <tr>\n      <th>2</th>\n      <td>2</td>\n      <td>1</td>\n      <td>FS</td>\n      <td>0</td>\n      <td>50</td>\n      <td>x</td>\n      <td>x</td>\n      <td>x</td>\n      <td>x</td>\n      <td>x</td>\n      <td>x</td>\n      <td>x</td>\n      <td>x</td>\n      <td>x</td>\n      <td>x</td>\n      <td>x</td>\n    </tr>\n    <tr>\n      <th>3</th>\n      <td>3</td>\n      <td>0</td>\n      <td>FS</td>\n      <td>0</td>\n      <td>7</td>\n      <td>98</td>\n      <td>85</td>\n      <td>9</td>\n      <td>90</td>\n      <td>80</td>\n      <td>10</td>\n      <td>85</td>\n      <td>85</td>\n      <td>x</td>\n      <td>x</td>\n      <td>x</td>\n    </tr>\n    <tr>\n      <th>4</th>\n      <td>4</td>\n      <td>3</td>\n      <td>FS</td>\n      <td>0</td>\n      <td>19</td>\n      <td>612</td>\n      <td>80</td>\n      <td>23</td>\n      <td>550</td>\n      <td>85</td>\n      <td>25</td>\n      <td>581</td>\n      <td>88</td>\n      <td>x</td>\n      <td>x</td>\n      <td>x</td>\n    </tr>\n    <tr>\n      <th>5</th>\n      <td>5</td>\n      <td>4</td>\n      <td>FS</td>\n      <td>0</td>\n      <td>42</td>\n      <td>447</td>\n      <td>85</td>\n      <td>46</td>\n      <td>515</td>\n      <td>82</td>\n      <td>50</td>\n      <td>481</td>\n      <td>85</td>\n      <td>x</td>\n      <td>x</td>\n      <td>x</td>\n    </tr>\n    <tr>\n      <th>6</th>\n      <td>6</td>\n      <td>5</td>\n      <td>FS</td>\n      <td>0</td>\n      <td>7</td>\n      <td>52</td>\n      <td>89</td>\n      <td>9</td>\n      <td>45</td>\n      <td>75</td>\n      <td>10</td>\n      <td>48.5</td>\n      <td>78</td>\n      <td>x</td>\n      <td>x</td>\n      <td>x</td>\n    </tr>\n    <tr>\n      <th>7</th>\n      <td>7</td>\n      <td>6,2</td>\n      <td>FS,FS</td>\n      <td>0,0</td>\n      <td>35</td>\n      <td>5780</td>\n      <td>85</td>\n      <td>40</td>\n      <td>5690</td>\n      <td>89</td>\n      <td>43</td>\n      <td>5735</td>\n      <td>92</td>\n      <td>30</td>\n      <td>5910</td>\n      <td>75</td>\n    </tr>\n    <tr>\n      <th>8</th>\n      <td>8</td>\n      <td>7</td>\n      <td>FS</td>\n      <td>0</td>\n      <td>47</td>\n      <td>1285</td>\n      <td>95</td>\n      <td>52</td>\n      <td>1240</td>\n      <td>85</td>\n      <td>55</td>\n      <td>1262.5</td>\n      <td>88</td>\n      <td>x</td>\n      <td>x</td>\n      <td>x</td>\n    </tr>\n    <tr>\n      <th>9</th>\n      <td>9</td>\n      <td>8</td>\n      <td>FF</td>\n      <td>0</td>\n      <td>11</td>\n      <td>212</td>\n      <td>85</td>\n      <td>14</td>\n      <td>200</td>\n      <td>77</td>\n      <td>16</td>\n      <td>206</td>\n      <td>80</td>\n      <td>x</td>\n      <td>x</td>\n      <td>x</td>\n    </tr>\n    <tr>\n      <th>10</th>\n      <td>10</td>\n      <td>6</td>\n      <td>FS</td>\n      <td>0</td>\n      <td>11</td>\n      <td>212</td>\n      <td>84</td>\n      <td>14</td>\n      <td>240</td>\n      <td>88</td>\n      <td>17</td>\n      <td>226</td>\n      <td>91</td>\n      <td>x</td>\n      <td>x</td>\n      <td>x</td>\n    </tr>\n    <tr>\n      <th>11</th>\n      <td>11</td>\n      <td>10</td>\n      <td>FS</td>\n      <td>0</td>\n      <td>12</td>\n      <td>135</td>\n      <td>85</td>\n      <td>15</td>\n      <td>150</td>\n      <td>90</td>\n      <td>17</td>\n      <td>142.5</td>\n      <td>93</td>\n      <td>x</td>\n      <td>x</td>\n      <td>x</td>\n    </tr>\n    <tr>\n      <th>12</th>\n      <td>12</td>\n      <td>7</td>\n      <td>FS</td>\n      <td>0</td>\n      <td>45</td>\n      <td>785</td>\n      <td>91</td>\n      <td>53</td>\n      <td>770</td>\n      <td>85</td>\n      <td>55</td>\n      <td>777.5</td>\n      <td>88</td>\n      <td>x</td>\n      <td>x</td>\n      <td>x</td>\n    </tr>\n    <tr>\n      <th>13</th>\n      <td>13</td>\n      <td>5</td>\n      <td>FS</td>\n      <td>0</td>\n      <td>110</td>\n      <td>2386</td>\n      <td>85</td>\n      <td>120</td>\n      <td>2290</td>\n      <td>87</td>\n      <td>140</td>\n      <td>2338</td>\n      <td>90</td>\n      <td>90</td>\n      <td>2511</td>\n      <td>80</td>\n    </tr>\n    <tr>\n      <th>14</th>\n      <td>14</td>\n      <td>3</td>\n      <td>FF</td>\n      <td>15</td>\n      <td>40</td>\n      <td>3721</td>\n      <td>83</td>\n      <td>45</td>\n      <td>3650</td>\n      <td>82</td>\n      <td>47</td>\n      <td>3685.5</td>\n      <td>85</td>\n      <td>35</td>\n      <td>3813</td>\n      <td>79</td>\n    </tr>\n    <tr>\n      <th>15</th>\n      <td>15</td>\n      <td>8,11</td>\n      <td>FS,FS</td>\n      <td>0,0</td>\n      <td>14</td>\n      <td>2346</td>\n      <td>85</td>\n      <td>17</td>\n      <td>2500</td>\n      <td>90</td>\n      <td>20</td>\n      <td>2423</td>\n      <td>93</td>\n      <td>x</td>\n      <td>x</td>\n      <td>x</td>\n    </tr>\n    <tr>\n      <th>16</th>\n      <td>16</td>\n      <td>14</td>\n      <td>FF</td>\n      <td>0</td>\n      <td>25</td>\n      <td>1232</td>\n      <td>95</td>\n      <td>30</td>\n      <td>1189</td>\n      <td>91</td>\n      <td>34</td>\n      <td>1210.5</td>\n      <td>94</td>\n      <td>x</td>\n      <td>x</td>\n      <td>x</td>\n    </tr>\n    <tr>\n      <th>17</th>\n      <td>17</td>\n      <td>14</td>\n      <td>FF</td>\n      <td>0</td>\n      <td>20</td>\n      <td>1321</td>\n      <td>85</td>\n      <td>24</td>\n      <td>1287</td>\n      <td>89</td>\n      <td>30</td>\n      <td>1304</td>\n      <td>92</td>\n      <td>x</td>\n      <td>x</td>\n      <td>x</td>\n    </tr>\n  </tbody>\n</table>\n</div>"
     },
     "metadata": {},
     "execution_count": 6
    }
   ],
   "source": [
    "data"
   ]
  },
  {
   "cell_type": "code",
   "execution_count": 7,
   "metadata": {},
   "outputs": [],
   "source": [
    "contraints = list(data[[1,2,3]].values)"
   ]
  },
  {
   "cell_type": "code",
   "execution_count": 8,
   "metadata": {},
   "outputs": [],
   "source": [
    "adj_list = defaultdict(lambda:[])\n",
    "parent_list = defaultdict(lambda:[])\n",
    "for idx, (u, v, z) in enumerate(contraints):\n",
    "    if u == 'x':\n",
    "        continue\n",
    "    adj_vert = [int(x) for x in str(u).split(',')]\n",
    "    adj_constr = str(v).split(',')\n",
    "    adj_delay = [int(x) for x in str(z).split(',')]\n",
    "    for i, j, k in zip(adj_vert, adj_constr, adj_delay):\n",
    "        adj_list[i] += [(idx, j, k)]\n",
    "        parent_list[idx] += [(i, j, k)]"
   ]
  },
  {
   "cell_type": "code",
   "execution_count": 9,
   "metadata": {},
   "outputs": [],
   "source": [
    "for i in range(len(contraints)):\n",
    "    if not adj_list[i]:\n",
    "        adj_list[i] += [('F', 'FS', 0)]\n",
    "        parent_list['F'] += [(i, 'FS', 0)]\n",
    "    if not parent_list[i]:\n",
    "        adj_list['S'] += [(i, 'FS', 0)]\n",
    "        parent_list[i] += [('S', 'FS', 0)]"
   ]
  },
  {
   "cell_type": "code",
   "execution_count": 42,
   "metadata": {},
   "outputs": [
    {
     "output_type": "stream",
     "name": "stdout",
     "text": "181\n"
    }
   ],
   "source": [
    "a = DiGraph(adj_list, parent_list, data[4].values)\n",
    "a.forward_pass()\n",
    "print(a.get_total_duration())"
   ]
  },
  {
   "cell_type": "code",
   "execution_count": 40,
   "metadata": {},
   "outputs": [],
   "source": [
    "class DiGraph:\n",
    "\n",
    "    def __init__(self, adj_list: dict, parent_list: dict, duration: list):\n",
    "        self.__adj_list = adj_list\n",
    "        self.__parent_list = parent_list\n",
    "        self.__cpm = defaultdict(lambda:defaultdict(lambda:0))\n",
    "        self.__duration = defaultdict(lambda:0)\n",
    "        self.set_duration(duration)\n",
    "\n",
    "    def forward_pass(self):\n",
    "        q = []\n",
    "        q.append('S')\n",
    "        while q:\n",
    "            u = q.pop(0)\n",
    "            self.__cpm[u]['EF'] = self.__cpm[u]['ES'] + self.__duration[u]\n",
    "            for v, rela, delay in self.__adj_list[u]:\n",
    "                if rela == 'FF':\n",
    "                    self.__cpm[v]['ES'] = max(self.__cpm[v]['ES'], self.__cpm[u]['EF'] - self.__duration[v] + delay)\n",
    "                elif rela == 'FS':\n",
    "                    self.__cpm[v]['ES'] = max(self.__cpm[v]['ES'], self.__cpm[u]['EF'] + delay)\n",
    "                q.append(v)\n",
    "    \n",
    "    def get_cpm(self):\n",
    "        return self.__cpm\n",
    "\n",
    "    def set_duration(self, duration):\n",
    "        for i, val in enumerate(duration):\n",
    "            self.__duration[i] = val\n",
    "\n",
    "    def get_total_duration(self):\n",
    "        return self.__cpm['F']['EF']"
   ]
  }
 ],
 "metadata": {
  "language_info": {
   "codemirror_mode": {
    "name": "ipython",
    "version": 3
   },
   "file_extension": ".py",
   "mimetype": "text/x-python",
   "name": "python",
   "nbconvert_exporter": "python",
   "pygments_lexer": "ipython3",
   "version": "3.8.2-final"
  },
  "orig_nbformat": 2,
  "kernelspec": {
   "name": "python38264bitenvvenva0f74cf8c9df45e3b2cb00644fa6db21",
   "display_name": "Python 3.8.2 64-bit ('env': venv)"
  }
 },
 "nbformat": 4,
 "nbformat_minor": 2
}